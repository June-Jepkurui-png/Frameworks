{
 "cells": [
  {
   "cell_type": "code",
   "execution_count": null,
   "id": "1e2ecda4",
   "metadata": {
    "vscode": {
     "languageId": "plaintext"
    }
   },
   "outputs": [],
   "source": [
    "import kagglehub\n",
    "\n",
    "# Download CORD-19 dataset\n",
    "path = kagglehub.dataset_download(\"allen-institute-for-ai/CORD-19-research-challenge\")\n",
    "print(\"Dataset downloaded to:\", path)\n"
   ]
  }
 ],
 "metadata": {
  "language_info": {
   "name": "python"
  }
 },
 "nbformat": 4,
 "nbformat_minor": 5
}
